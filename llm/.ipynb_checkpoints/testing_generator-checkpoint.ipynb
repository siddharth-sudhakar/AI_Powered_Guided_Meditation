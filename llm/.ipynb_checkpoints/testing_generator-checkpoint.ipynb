{
 "cells": [
  {
   "cell_type": "code",
   "execution_count": 1,
   "id": "c131d46b",
   "metadata": {},
   "outputs": [
    {
     "name": "stdout",
     "output_type": "stream",
     "text": [
      "C:\\Users\\Siddharth\\anaconda3\\envs\\meditation-env-new\\python.exe\n"
     ]
    }
   ],
   "source": [
    "import sys\n",
    "print(sys.executable)"
   ]
  },
  {
   "cell_type": "code",
   "execution_count": 6,
   "id": "43a3b16b",
   "metadata": {},
   "outputs": [
    {
     "name": "stdout",
     "output_type": "stream",
     "text": [
      "Collecting pandas\n",
      "  Downloading pandas-2.2.3-cp310-cp310-win_amd64.whl.metadata (19 kB)\n",
      "Collecting numpy>=1.22.4 (from pandas)\n",
      "  Downloading numpy-2.2.4-cp310-cp310-win_amd64.whl.metadata (60 kB)\n",
      "Requirement already satisfied: python-dateutil>=2.8.2 in c:\\users\\siddharth\\anaconda3\\envs\\meditation-env\\lib\\site-packages (from pandas) (2.9.0.post0)\n",
      "Collecting pytz>=2020.1 (from pandas)\n",
      "  Downloading pytz-2025.2-py2.py3-none-any.whl.metadata (22 kB)\n",
      "Collecting tzdata>=2022.7 (from pandas)\n",
      "  Downloading tzdata-2025.2-py2.py3-none-any.whl.metadata (1.4 kB)\n",
      "Requirement already satisfied: six>=1.5 in c:\\users\\siddharth\\anaconda3\\envs\\meditation-env\\lib\\site-packages (from python-dateutil>=2.8.2->pandas) (1.17.0)\n",
      "Downloading pandas-2.2.3-cp310-cp310-win_amd64.whl (11.6 MB)\n",
      "   ---------------------------------------- 0.0/11.6 MB ? eta -:--:--\n",
      "   - -------------------------------------- 0.5/11.6 MB 8.5 MB/s eta 0:00:02\n",
      "   -------- ------------------------------- 2.4/11.6 MB 7.9 MB/s eta 0:00:02\n",
      "   ------------ --------------------------- 3.7/11.6 MB 7.5 MB/s eta 0:00:02\n",
      "   ------------------ --------------------- 5.2/11.6 MB 7.6 MB/s eta 0:00:01\n",
      "   ----------------------- ---------------- 6.8/11.6 MB 7.4 MB/s eta 0:00:01\n",
      "   ---------------------------- ----------- 8.1/11.6 MB 7.3 MB/s eta 0:00:01\n",
      "   ----------------------------- ---------- 8.7/11.6 MB 7.0 MB/s eta 0:00:01\n",
      "   --------------------------------- ------ 9.7/11.6 MB 6.4 MB/s eta 0:00:01\n",
      "   ------------------------------------- -- 10.7/11.6 MB 6.2 MB/s eta 0:00:01\n",
      "   ---------------------------------------  11.5/11.6 MB 5.9 MB/s eta 0:00:01\n",
      "   ---------------------------------------- 11.6/11.6 MB 5.8 MB/s eta 0:00:00\n",
      "Downloading numpy-2.2.4-cp310-cp310-win_amd64.whl (12.9 MB)\n",
      "   ---------------------------------------- 0.0/12.9 MB ? eta -:--:--\n",
      "   -- ------------------------------------- 0.8/12.9 MB 4.8 MB/s eta 0:00:03\n",
      "   ---- ----------------------------------- 1.6/12.9 MB 4.0 MB/s eta 0:00:03\n",
      "   ------- -------------------------------- 2.4/12.9 MB 3.8 MB/s eta 0:00:03\n",
      "   --------- ------------------------------ 3.1/12.9 MB 3.8 MB/s eta 0:00:03\n",
      "   ------------ --------------------------- 3.9/12.9 MB 3.9 MB/s eta 0:00:03\n",
      "   -------------- ------------------------- 4.7/12.9 MB 3.9 MB/s eta 0:00:03\n",
      "   ----------------- ---------------------- 5.8/12.9 MB 4.0 MB/s eta 0:00:02\n",
      "   ------------------- -------------------- 6.3/12.9 MB 3.9 MB/s eta 0:00:02\n",
      "   ---------------------- ----------------- 7.3/12.9 MB 3.9 MB/s eta 0:00:02\n",
      "   ------------------------- -------------- 8.4/12.9 MB 4.1 MB/s eta 0:00:02\n",
      "   ----------------------------- ---------- 9.4/12.9 MB 4.2 MB/s eta 0:00:01\n",
      "   -------------------------------- ------- 10.5/12.9 MB 4.2 MB/s eta 0:00:01\n",
      "   ----------------------------------- ---- 11.5/12.9 MB 4.3 MB/s eta 0:00:01\n",
      "   ---------------------------------------  12.8/12.9 MB 4.4 MB/s eta 0:00:01\n",
      "   ---------------------------------------- 12.9/12.9 MB 4.4 MB/s eta 0:00:00\n",
      "Downloading pytz-2025.2-py2.py3-none-any.whl (509 kB)\n",
      "Downloading tzdata-2025.2-py2.py3-none-any.whl (347 kB)\n",
      "Installing collected packages: pytz, tzdata, numpy, pandas\n",
      "Successfully installed numpy-2.2.4 pandas-2.2.3 pytz-2025.2 tzdata-2025.2\n"
     ]
    },
    {
     "name": "stderr",
     "output_type": "stream",
     "text": [
      "  WARNING: The scripts f2py.exe and numpy-config.exe are installed in 'C:\\Users\\Siddharth\\anaconda3\\envs\\meditation-env\\Scripts' which is not on PATH.\n",
      "  Consider adding this directory to PATH or, if you prefer to suppress this warning, use --no-warn-script-location.\n"
     ]
    }
   ],
   "source": [
    "!C:\\Users\\Siddharth\\anaconda3\\envs\\meditation-env\\python.exe -m pip install pandas"
   ]
  },
  {
   "cell_type": "code",
   "execution_count": null,
   "id": "c701e1cf",
   "metadata": {},
   "outputs": [],
   "source": [
    "from generator import generate_meditation"
   ]
  },
  {
   "cell_type": "code",
   "execution_count": 2,
   "id": "7ef18719",
   "metadata": {},
   "outputs": [],
   "source": [
    "user_input = \"My dog passed away recently, and I’m feeling heartbroken. Can I get a meditation to help with the grief?\""
   ]
  },
  {
   "cell_type": "code",
   "execution_count": 3,
   "id": "dfa25fd1",
   "metadata": {},
   "outputs": [],
   "source": [
    "output = generate_meditation(user_input)"
   ]
  },
  {
   "cell_type": "code",
   "execution_count": 4,
   "id": "f9b4383a",
   "metadata": {},
   "outputs": [
    {
     "name": "stdout",
     "output_type": "stream",
     "text": [
      "\n",
      "Generated Meditation Script:\n",
      "\n",
      "I'm so sorry to hear about the loss of your beloved furry companion. Losing a pet is never easy, and it's completely normal to feel heartbroken.\n",
      "\n",
      "Here's a guided meditation specifically designed to help you cope with your grief:\n",
      "\n",
      "\"Embracing Grief: A Meditation for Healing\"\n",
      "\n",
      "Find a quiet, comfortable spot where you can sit or lie down without distraction. Close your eyes, take a deep breath in through your nose and out through your mouth, and let yourself settle in.\n",
      "\n",
      "Imagine yourself standing in a peaceful meadow, surrounded by lush green grass and vibrant wildflowers. Take a moment to breathe in the fresh air, feeling the gentle breeze caress your skin.\n",
      "\n",
      "Now, bring your attention to a small clearing in front of you. In this space, envision your dear dog, exactly as they were when they were alive. See their wagging tail, their loving eyes, and their snuggly presence.\n",
      "\n",
      "As you gaze at your dog, allow yourself to feel the full range of emotions that come with grief. It's okay to cry, scream, or shout out in anger – whatever feels authentic for you right now. Allow these emotions to wash over you like a warm wave, without judgment or resistance.\n",
      "\n",
      "Now, imagine your dog is by your side again, looking up at you with adoring eyes. They're telling you that they love you unconditionally and that their time on this earth was precious because of the bond you shared.\n",
      "\n",
      "As you continue to breathe deeply, visualize your grief as a physical weight that's holding you back. Envision it as a bundle of dark energy, tied up in knots around your heart. Take a deep breath in, and as you exhale, imagine this weight slowly releasing, unraveling, and dissolving into nothingness.\n",
      "\n",
      "Repeat the following phrases to yourself, allowing their truth to sink deeply into your being:\n",
      "\n",
      "\"My grief is valid, and I am entitled to feel it.\"\n",
      "\"I am strong enough to carry this pain.\"\n",
      "\"I will honor my dog's memory by living fully in the present.\"\n",
      "\n",
      "As you continue to breathe, visualize a warm light filling your chest. This light represents your heart, now free from the weight of grief. Feel its warmth spreading throughout your body, soothing any remaining discomfort or tension.\n",
      "\n",
      "When you're ready, slowly open your eyes. Take one final deep breath, and as you exhale, imagine any remaining grief being released, like a balloon drifting gently away into the sky.\n",
      "\n",
      "Remember, my friend, grief is a natural part of the healing process. Be patient with yourself, and know that time will help ease this pain. You are loved, and your dog's memory will always be cherished in your heart.\n",
      "\n",
      "Take care of yourself during this difficult time, and don't hesitate to reach out if you need further support or guidance.\n"
     ]
    }
   ],
   "source": [
    "print(\"\\nGenerated Meditation Script:\\n\")\n",
    "print(output)"
   ]
  }
 ],
 "metadata": {
  "kernelspec": {
   "display_name": "meditation-env",
   "language": "python",
   "name": "meditation-env"
  },
  "language_info": {
   "codemirror_mode": {
    "name": "ipython",
    "version": 3
   },
   "file_extension": ".py",
   "mimetype": "text/x-python",
   "name": "python",
   "nbconvert_exporter": "python",
   "pygments_lexer": "ipython3",
   "version": "3.10.16"
  }
 },
 "nbformat": 4,
 "nbformat_minor": 5
}
