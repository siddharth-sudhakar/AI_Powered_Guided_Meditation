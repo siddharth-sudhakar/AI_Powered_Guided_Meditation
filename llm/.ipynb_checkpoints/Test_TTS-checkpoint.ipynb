{
 "cells": [
  {
   "cell_type": "code",
   "execution_count": 1,
   "id": "8bef6841",
   "metadata": {
    "scrolled": true
   },
   "outputs": [
    {
     "name": "stderr",
     "output_type": "stream",
     "text": [
      "C:\\Users\\Siddharth\\anaconda3\\envs\\meditation-env\\lib\\site-packages\\tqdm\\auto.py:21: TqdmWarning: IProgress not found. Please update jupyter and ipywidgets. See https://ipywidgets.readthedocs.io/en/stable/user_install.html\n",
      "  from .autonotebook import tqdm as notebook_tqdm\n",
      "Batches: 100%|██████████| 2/2 [00:00<00:00,  4.37it/s]\n",
      "C:\\Users\\Siddharth\\anaconda3\\envs\\meditation-env\\lib\\site-packages\\torch\\nn\\utils\\weight_norm.py:143: FutureWarning: `torch.nn.utils.weight_norm` is deprecated in favor of `torch.nn.utils.parametrizations.weight_norm`.\n",
      "  WeightNorm.apply(module, name, dim)\n"
     ]
    }
   ],
   "source": [
    "from generator import generate_meditation"
   ]
  },
  {
   "cell_type": "code",
   "execution_count": 2,
   "id": "9103a891",
   "metadata": {},
   "outputs": [
    {
     "name": "stderr",
     "output_type": "stream",
     "text": [
      "C:\\Users\\Siddharth\\anaconda3\\envs\\meditation-env\\lib\\site-packages\\bark\\generation.py:175: FutureWarning: `torch.cuda.amp.autocast(args...)` is deprecated. Please use `torch.amp.autocast('cuda', args...)` instead.\n",
      "  with InferenceContext(), torch.inference_mode(), torch.no_grad(), autocast():\n",
      "100%|██████████| 613/613 [00:15<00:00, 40.36it/s]\n",
      "100%|██████████| 31/31 [01:02<00:00,  2.02s/it]\n",
      "100%|██████████| 745/745 [00:11<00:00, 63.27it/s]\n",
      "100%|██████████| 38/38 [00:35<00:00,  1.08it/s]\n",
      "100%|██████████| 722/722 [00:11<00:00, 61.40it/s]\n",
      "100%|██████████| 37/37 [00:34<00:00,  1.06it/s]\n",
      "100%|██████████| 739/739 [00:13<00:00, 56.79it/s]\n",
      "100%|██████████| 37/37 [00:33<00:00,  1.10it/s]\n",
      "100%|██████████| 734/734 [00:11<00:00, 62.46it/s]\n",
      "100%|██████████| 37/37 [00:39<00:00,  1.07s/it]\n",
      "100%|██████████| 740/740 [00:11<00:00, 66.69it/s]\n",
      "100%|██████████| 38/38 [00:32<00:00,  1.16it/s]\n",
      "100%|██████████| 702/702 [00:11<00:00, 63.63it/s]\n",
      "100%|██████████| 36/36 [00:38<00:00,  1.08s/it]\n",
      "100%|██████████| 748/748 [00:11<00:00, 65.33it/s]\n",
      "100%|██████████| 38/38 [00:33<00:00,  1.12it/s]\n"
     ]
    },
    {
     "name": "stdout",
     "output_type": "stream",
     "text": [
      "Generated Text:\n",
      " I sense that you're feeling a bit anxious about your upcoming interview at Google for an AI engineer role. It's completely normal to feel some level of nervousness, but I'm here to help you calm those nerves and focus on the opportunity ahead.\n",
      "\n",
      "Take a deep breath in through your nose, and out through your mouth. Feel the air move in and out of your body, and allow yourself to relax just a notch.\n",
      "\n",
      "Imagine yourself standing at the edge of a peaceful lake. The water is calm, reflecting the beauty of nature around you. With each passing moment, feel any tension or anxiety slowly dripping away like leaves floating on the surface of the water.\n",
      "\n",
      "As you gaze out at the serene lake, remember that this interview is an opportunity for growth and learning. It's not just about getting the job; it's about showcasing your skills, sharing your passion for AI engineering, and connecting with the Google team. You're well-prepared, and your unique perspective has value to offer.\n",
      "\n",
      "Now, visualize a gentle stream flowing from the lake, carrying any remaining worries or doubts away from you. As you watch this calming process, repeat the following phrase to yourself: \"I am confident in my abilities. I am prepared for this opportunity.\"\n",
      "\n",
      "Remember that it's okay to take your time and collect your thoughts before the interview. Take a few moments to gather your thoughts, and use that time to center yourself.\n",
      "\n",
      "As you conclude this brief meditation, know that you're not alone, and many people have successfully navigated similar challenges. You've got this!\n",
      "Audio saved at: output/audio_1a5c48f0.wav\n"
     ]
    }
   ],
   "source": [
    "text, audio = generate_meditation(\"I am anxious about my interview at Google for an AI engineer role, I want a short calming meditation for anxiety.\")\n",
    "\n",
    "print(\"Generated Text:\\n\", text)\n",
    "print(\"Audio saved at:\", audio)"
   ]
  }
 ],
 "metadata": {
  "kernelspec": {
   "display_name": "meditation-env",
   "language": "python",
   "name": "meditation-env"
  },
  "language_info": {
   "codemirror_mode": {
    "name": "ipython",
    "version": 3
   },
   "file_extension": ".py",
   "mimetype": "text/x-python",
   "name": "python",
   "nbconvert_exporter": "python",
   "pygments_lexer": "ipython3",
   "version": "3.10.16"
  }
 },
 "nbformat": 4,
 "nbformat_minor": 5
}
