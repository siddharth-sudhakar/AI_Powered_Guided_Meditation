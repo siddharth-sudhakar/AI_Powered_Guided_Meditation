{
 "cells": [
  {
   "cell_type": "code",
   "execution_count": 2,
   "id": "dfcead6f",
   "metadata": {},
   "outputs": [
    {
     "name": "stderr",
     "output_type": "stream",
     "text": [
      "Batches: 100%|██████████| 2/2 [00:00<00:00,  2.93it/s]\n"
     ]
    }
   ],
   "source": [
    "from retriever import retrieve_relevant_advice"
   ]
  },
  {
   "cell_type": "code",
   "execution_count": 3,
   "id": "9199a50b",
   "metadata": {},
   "outputs": [],
   "source": [
    "user_query = \"My dog passed away and I'm feeling very low. I need a meditation to help with grief and loss.\""
   ]
  },
  {
   "cell_type": "code",
   "execution_count": 4,
   "id": "904b1d15",
   "metadata": {},
   "outputs": [],
   "source": [
    "context_chunks = retrieve_relevant_advice(user_query)"
   ]
  },
  {
   "cell_type": "code",
   "execution_count": 5,
   "id": "91ff7e62",
   "metadata": {},
   "outputs": [
    {
     "name": "stdout",
     "output_type": "stream",
     "text": [
      "Retrieved Context Chunks:\n",
      "\n",
      "--- Chunk 1 ---\n",
      "You are not suffering life itself, but rather your interpretation and emotional reaction to past events stored in your memory.\n",
      "\n",
      "--- Chunk 2 ---\n",
      "Expect to work with and encounter people who are not ideal. If your goals are significant, you'll need to navigate these interactions. Ideal people are often those who have passed away.\n",
      "\n",
      "--- Chunk 3 ---\n",
      "Focus your attention on your current surroundings and activities, using your senses to ground yourself in the \"now.\"\n"
     ]
    }
   ],
   "source": [
    "print(\"Retrieved Context Chunks:\")\n",
    "for i, chunk in enumerate(context_chunks, 1):\n",
    "    print(f\"\\n--- Chunk {i} ---\\n{chunk}\")"
   ]
  }
 ],
 "metadata": {
  "kernelspec": {
   "display_name": "meditation-env",
   "language": "python",
   "name": "meditation-env"
  },
  "language_info": {
   "codemirror_mode": {
    "name": "ipython",
    "version": 3
   },
   "file_extension": ".py",
   "mimetype": "text/x-python",
   "name": "python",
   "nbconvert_exporter": "python",
   "pygments_lexer": "ipython3",
   "version": "3.10.16"
  }
 },
 "nbformat": 4,
 "nbformat_minor": 5
}
