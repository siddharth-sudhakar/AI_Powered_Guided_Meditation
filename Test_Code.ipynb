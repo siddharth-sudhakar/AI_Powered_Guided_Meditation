{
 "cells": [
  {
   "cell_type": "code",
   "execution_count": 1,
   "id": "2c69c39b",
   "metadata": {},
   "outputs": [],
   "source": [
    "import requests"
   ]
  },
  {
   "cell_type": "code",
   "execution_count": 2,
   "id": "b5ea17c4",
   "metadata": {},
   "outputs": [],
   "source": [
    "def query_llama3(prompt):\n",
    "    response = requests.post(\n",
    "        \"http://localhost:11434/api/generate\",\n",
    "        json={\"model\": \"llama3\", \"prompt\": prompt, \"stream\": False}\n",
    "    )\n",
    "    return response.json()[\"response\"]"
   ]
  },
  {
   "cell_type": "code",
   "execution_count": 3,
   "id": "cf04b93d",
   "metadata": {},
   "outputs": [
    {
     "name": "stdout",
     "output_type": "stream",
     "text": [
      "You're talking to me! I'm always \"up\" and ready to chat! How can I help or entertain you today?\n"
     ]
    }
   ],
   "source": [
    "print(query_llama3(\"Hey LLaMA, you up?\"))"
   ]
  },
  {
   "cell_type": "code",
   "execution_count": null,
   "id": "00bd39bd",
   "metadata": {},
   "outputs": [],
   "source": []
  }
 ],
 "metadata": {
  "kernelspec": {
   "display_name": "meditation-env",
   "language": "python",
   "name": "meditation-env"
  },
  "language_info": {
   "codemirror_mode": {
    "name": "ipython",
    "version": 3
   },
   "file_extension": ".py",
   "mimetype": "text/x-python",
   "name": "python",
   "nbconvert_exporter": "python",
   "pygments_lexer": "ipython3",
   "version": "3.10.16"
  }
 },
 "nbformat": 4,
 "nbformat_minor": 5
}
